# python demo

A = [
    ["A_1,1", "A_1,2", "A_1,3"],
    ["A_2,1", "A_2,2", "A_2,3"],
    ["A_3,1", "A_3,2", "A_3,3"],
    ["A_4,1", "A_4,2", "A_4,3"],
]

print("the bottom right entry in the A matrix is:", A[3][2])

def sum_all_matrix_elements(A):
    """
    Computes the sum of ALL elements in some matrix A.
    """
    n = len(A)
    m = len(A[0])
    total = 0.0
    for i in range(n):
        for j in range(m):
            total = total + A[i][j]
    return total

example_matrix = [
    [1, 3, 5],
    [4, 2, 2],
]

print(sum_all_matrix_elements(example_matrix))
