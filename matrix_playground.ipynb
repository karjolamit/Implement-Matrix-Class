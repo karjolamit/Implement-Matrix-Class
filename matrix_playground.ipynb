# Run this cell but don't modify it.

%load_ext autoreload
%autoreload 2
from matrix import *
import matrix as m

# some functionality already exists... here's a demo

m1 = Matrix([
    [1, 2],
    [3, 4]
])

m2 = Matrix([
    [2, 5],
    [6, 1]
])

print("m1 is")
print(m1)

print("m2 is")
print(m2)

print("we've also provided you with a function called zeros")
print("here's what happens when you call zeros(4,2)")
print(zeroes(4,2))

print("we've also provided you with a function called identity")
print("here's identity(3)")
print(identity(3))

print("but not everything works yet!")
print("for example, matrix addition...")
print("run the cell below to see what happens when we try...")

m1 = Matrix([
    [1, 2],
    [3, 4]
])
print(m1)

m2 = Matrix([
    [2, 5],
    [6, 1]
])
print(m2)

m3 = m1 + m2
print("m1 + m2 is")
print(m3)

# Calculate Transpose 
transpose_m1 = Matrix.T(m1)
print("Transpose of matrix is:")
print(transpose_m1)
print("\n")

# Calculate Determinant
det_m1 = Matrix.determinant(m1)
print("Determinant of matrix is:")
print(det_m1)
print("\n")

# Calculate Trace
trace_m1 = Matrix.trace(m1)
print("Trace of matrix is:")
print(trace_m1)
print("\n")

# Calculate Inverse
inv_m1 = Matrix.inverse(m1)
print("Inverse of matrix is:")
print(inv_m1)
print("\n")

# Add matrices
sum = m1 + m2
print("Sum of the matrices is:")
print(sum)
print("\n")

# Subtract matrices
subtract = m1 - m2
print("Subtraction of the matrices is:")
print(subtract)
print("\n")

# Negative of a matrix
neg = -m1
print("Negative of a matrix is:")
print(neg)
print("\n")

# Multiplication of matrices
multi = m1*m2
print("Multiplication of matrices is:")
print(multi)
print("\n")

# Multiplication of a matrix with a Scalar
multiSca = 10*m1
print("Multiplication of a matrix with a Scalar is:")
print(multiSca)
print("\n")

I2 = m.Matrix([[1, 0],[0, 1]])
print(I2)

print(-I2)
print("\n")

m2_x_m1 = m.Matrix([
        [ -1,   4,   9],
        [-23, -31, -39],
        [  8,  13,  18]])

print(m2_x_m1)
print("\n")
print(-m2_x_m1)

if isinstance(I2,int):
    print("It's a string")
else:
    print("Something else")
    
# Try running this code. You should get an assertion error. 
# You will continue to get assertion errors until all the 
# methods in matrix.py are correctly implemented.

# You can open matrix.py by selecting File > Open... 
# and then selecting matrix.py
# Run this cell but don't modify it.

import test
